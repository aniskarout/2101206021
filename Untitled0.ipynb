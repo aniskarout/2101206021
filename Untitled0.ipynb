{
  "cells": [
    {
      "cell_type": "markdown",
      "metadata": {
        "id": "view-in-github",
        "colab_type": "text"
      },
      "source": [
        "<a href=\"https://colab.research.google.com/github/aniskarout/2101206021/blob/main/Untitled0.ipynb\" target=\"_parent\"><img src=\"https://colab.research.google.com/assets/colab-badge.svg\" alt=\"Open In Colab\"/></a>"
      ]
    },
    {
      "cell_type": "code",
      "execution_count": null,
      "metadata": {
        "colab": {
          "base_uri": "https://localhost:8080/"
        },
        "id": "N4edDWuibf6y",
        "outputId": "39a601e1-4e36-41dd-9a80-0b478c18b98e"
      },
      "outputs": [
        {
          "name": "stdout",
          "output_type": "stream",
          "text": [
            "The gcd of 60 and 48 is : 12\n"
          ]
        }
      ],
      "source": [
        "# Python code to demonstrate naive\n",
        "# method to compute gcd ( recursion )\n",
        "def hcf(a, b):\n",
        " if(b == 0):\n",
        "    return a\n",
        " else:\n",
        "    return hcf(b, a % b)\n",
        "a = 60\n",
        "b = 48\n",
        "# prints 12\n",
        "print(\"The gcd of 60 and 48 is : \", end=\"\")\n",
        "print(hcf(60, 48))\n"
      ]
    },
    {
      "cell_type": "code",
      "source": [
        "class  student:\n",
        "  def CalculatePower(self,no,po):\n",
        "    return no**po\n",
        "    obj = student()\n",
        "    print(obj.CalculatePower(3,2))"
      ],
      "metadata": {
        "id": "Zf-oKZI3fwOI"
      },
      "execution_count": null,
      "outputs": []
    },
    {
      "cell_type": "code",
      "source": [
        "class a:\n",
        " def da(self):\n",
        "  print('grand parent class')\n",
        "class b(a):\n",
        "  def db(self):\n",
        "    print('parent class')\n",
        "class c(b):\n",
        "  def dc(self):\n",
        "    print('child class')\n",
        "obj=c()\n",
        "obj.da()\n",
        "obj.db()\n",
        "obj.dc()"
      ],
      "metadata": {
        "colab": {
          "base_uri": "https://localhost:8080/"
        },
        "id": "icd2YaSlpmWd",
        "outputId": "31256c81-1f3b-4e4b-e198-9701a90351f7"
      },
      "execution_count": null,
      "outputs": [
        {
          "output_type": "stream",
          "name": "stdout",
          "text": [
            "grand parent class\n",
            "parent class\n",
            "child class\n"
          ]
        }
      ]
    },
    {
      "cell_type": "code",
      "source": [
        "class a:\n",
        "  def da(self):\n",
        "    print('parent a')\n",
        "class b:\n",
        "  def db(self):\n",
        "    print('parent b')\n",
        "class c(a,b):\n",
        "  def dc(self):\n",
        "    print('c')\n",
        "obj=c()\n",
        "obj.da()\n",
        "obj.db()\n",
        "obj.dc()\n"
      ],
      "metadata": {
        "colab": {
          "base_uri": "https://localhost:8080/"
        },
        "id": "4kKp0UKNuMhQ",
        "outputId": "51c3b0bd-172a-4136-c4a6-95d551349431"
      },
      "execution_count": null,
      "outputs": [
        {
          "output_type": "stream",
          "name": "stdout",
          "text": [
            "parent a\n",
            "parent b\n",
            "c\n"
          ]
        }
      ]
    },
    {
      "cell_type": "code",
      "source": [
        "class parent:\n",
        "  def mymethod(self):\n",
        "    print('d')"
      ],
      "metadata": {
        "id": "ziXZkWcux9DT"
      },
      "execution_count": null,
      "outputs": []
    },
    {
      "cell_type": "code",
      "execution_count": null,
      "metadata": {
        "colab": {
          "base_uri": "https://localhost:8080/"
        },
        "id": "dmZ10pYejiV2",
        "outputId": "c01a2762-027c-45f5-94b0-67e8d00fe4a2"
      },
      "outputs": [
        {
          "name": "stdout",
          "output_type": "stream",
          "text": [
            "the value of pi is : 3.141592653589793\n"
          ]
        }
      ],
      "source": [
        "import math as m\n",
        "class  student:\n",
        "  def CalculatePower(self,no,po):\n",
        "    return no**po\n",
        "    obj = student()\n",
        "    print(obj.CalculatePower(3,2))p\n",
        "    ie = m.pi\n",
        "print(\"the value of pi is :\",pie)\n"
      ]
    },
    {
      "cell_type": "code",
      "source": [
        "import numpy array as np\n",
        "arr = np.array[1,2,3,4,5]\n",
        "print(arr)"
      ],
      "metadata": {
        "colab": {
          "base_uri": "https://localhost:8080/",
          "height": 130
        },
        "id": "ybyuYsBB0ctU",
        "outputId": "9a524e97-f4ba-465e-d7b5-872ebb018ced"
      },
      "execution_count": null,
      "outputs": [
        {
          "output_type": "error",
          "ename": "SyntaxError",
          "evalue": "ignored",
          "traceback": [
            "\u001b[0;36m  File \u001b[0;32m\"<ipython-input-32-2c5439855f37>\"\u001b[0;36m, line \u001b[0;32m1\u001b[0m\n\u001b[0;31m    import numpy array as np\u001b[0m\n\u001b[0m                 ^\u001b[0m\n\u001b[0;31mSyntaxError\u001b[0m\u001b[0;31m:\u001b[0m invalid syntax\n"
          ]
        }
      ]
    },
    {
      "cell_type": "code",
      "execution_count": null,
      "metadata": {
        "colab": {
          "base_uri": "https://localhost:8080/"
        },
        "id": "sGkfsQIU0hCR",
        "outputId": "606851cd-dbc3-4ec5-ef00-96ed50a44a5f"
      },
      "outputs": [
        {
          "name": "stdout",
          "output_type": "stream",
          "text": [
            "9\n",
            "22\n",
            "10\n",
            "23\n",
            "12\n",
            "21\n",
            "14\n",
            "1\n",
            "13\n",
            "6\n"
          ]
        }
      ],
      "source": [
        "import random as r\n",
        "for i in range(10):\n",
        " print(r.randint(1,25))"
      ]
    },
    {
      "cell_type": "code",
      "source": [
        "import numpy as np\n",
        "arr=np.array(+2)\n",
        "print(arr)"
      ],
      "metadata": {
        "colab": {
          "base_uri": "https://localhost:8080/"
        },
        "id": "bTx0PEks1sqX",
        "outputId": "d6cc1f92-114e-4a0d-ec64-04b331e0180e"
      },
      "execution_count": null,
      "outputs": [
        {
          "output_type": "stream",
          "name": "stdout",
          "text": [
            "2\n"
          ]
        }
      ]
    },
    {
      "cell_type": "code",
      "source": [
        "import numpy as np\n",
        "arr=np.array([[1,2,3],[4,5,6]])\n",
        "print(arr)"
      ],
      "metadata": {
        "colab": {
          "base_uri": "https://localhost:8080/"
        },
        "id": "J5Fm_MPa2NtY",
        "outputId": "2e5c9173-3b71-49e7-ae24-b869ea5e37b2"
      },
      "execution_count": null,
      "outputs": [
        {
          "output_type": "stream",
          "name": "stdout",
          "text": [
            "[[1 2 3]\n",
            " [4 5 6]]\n"
          ]
        }
      ]
    },
    {
      "cell_type": "code",
      "source": [
        "import numpy as np\n",
        "arr=np.array([[1,2,3],[4,5,6],[7,8,9]])\n",
        "print(arr)"
      ],
      "metadata": {
        "colab": {
          "base_uri": "https://localhost:8080/"
        },
        "id": "4eFnh6QO2ikT",
        "outputId": "a7718b1c-6d26-4a82-9e3c-abfa1b420b75"
      },
      "execution_count": null,
      "outputs": [
        {
          "output_type": "stream",
          "name": "stdout",
          "text": [
            "[[1 2 3]\n",
            " [4 5 6]\n",
            " [7 8 9]]\n"
          ]
        }
      ]
    },
    {
      "cell_type": "code",
      "source": [
        "import numpy\n",
        "list=[10,20,30,40,50]\n",
        "a=numpy.array(list)\n",
        "print(a)"
      ],
      "metadata": {
        "colab": {
          "base_uri": "https://localhost:8080/"
        },
        "id": "aWTdp2tF44d0",
        "outputId": "450d9f68-46cf-4f7d-d7b7-2fd0889f3ca9"
      },
      "execution_count": null,
      "outputs": [
        {
          "output_type": "stream",
          "name": "stdout",
          "text": [
            "[10 20 30 40 50]\n"
          ]
        }
      ]
    },
    {
      "cell_type": "code",
      "execution_count": null,
      "metadata": {
        "colab": {
          "base_uri": "https://localhost:8080/"
        },
        "id": "Oe0WsNey1HLu",
        "outputId": "ed5cd5c7-3e22-49d6-f6ca-4351f0e3d814"
      },
      "outputs": [
        {
          "output_type": "stream",
          "name": "stdout",
          "text": [
            "13\n",
            "<module 'math' (built-in)>\n",
            "21\n",
            "<module 'math' (built-in)>\n",
            "19\n",
            "<module 'math' (built-in)>\n",
            "3\n",
            "<module 'math' (built-in)>\n",
            "25\n",
            "<module 'math' (built-in)>\n"
          ]
        }
      ],
      "source": [
        "import random\n",
        "import math\n",
        "for i in range(5):\n",
        "  print(random.randint(1,25))\n",
        "  print(math)"
      ]
    },
    {
      "cell_type": "code",
      "source": [
        "import numpy as np\n",
        "list=[10,20,30,40,50]\n",
        "arr=np.array(list)\n",
        "print(arr)"
      ],
      "metadata": {
        "colab": {
          "base_uri": "https://localhost:8080/"
        },
        "id": "8K7o5CZa5nvp",
        "outputId": "997b0721-ddcc-4abf-afcc-5b5863eaf8e6"
      },
      "execution_count": null,
      "outputs": [
        {
          "output_type": "stream",
          "name": "stdout",
          "text": [
            "[10 20 30 40 50]\n"
          ]
        }
      ]
    },
    {
      "cell_type": "code",
      "source": [
        "import numpy as np\n",
        "list1=[0,1,2,3,4]\n",
        "arr=np.array(list1)\n",
        "print(arr)\n",
        "arr=arr+2\n",
        "print(arr)"
      ],
      "metadata": {
        "colab": {
          "base_uri": "https://localhost:8080/"
        },
        "id": "itFC9fZa6C-g",
        "outputId": "b68af15e-bbe2-49e3-efb4-ee20f9c908d8"
      },
      "execution_count": null,
      "outputs": [
        {
          "output_type": "stream",
          "name": "stdout",
          "text": [
            "[0 1 2 3 4]\n",
            "[2 3 4 5 6]\n"
          ]
        }
      ]
    },
    {
      "cell_type": "code",
      "source": [
        "import numpy as np\n",
        "list2=[[0,1,2],[3,4,5][6,7,8]]\n",
        "arr=np.array(list2,dtype='float')\n",
        "print(arr3)"
      ],
      "metadata": {
        "colab": {
          "base_uri": "https://localhost:8080/",
          "height": 287
        },
        "id": "v31Re7Mg6d_f",
        "outputId": "1cda7499-f39f-434c-c1bd-8f8e6bff4963"
      },
      "execution_count": null,
      "outputs": [
        {
          "output_type": "stream",
          "name": "stderr",
          "text": [
            "<>:2: SyntaxWarning: list indices must be integers or slices, not tuple; perhaps you missed a comma?\n",
            "<>:2: SyntaxWarning: list indices must be integers or slices, not tuple; perhaps you missed a comma?\n",
            "<ipython-input-52-2fa433bcb658>:2: SyntaxWarning: list indices must be integers or slices, not tuple; perhaps you missed a comma?\n",
            "  list2=[[0,1,2],[3,4,5][6,7,8]]\n"
          ]
        },
        {
          "output_type": "error",
          "ename": "TypeError",
          "evalue": "ignored",
          "traceback": [
            "\u001b[0;31m---------------------------------------------------------------------------\u001b[0m",
            "\u001b[0;31mTypeError\u001b[0m                                 Traceback (most recent call last)",
            "\u001b[0;32m<ipython-input-52-2fa433bcb658>\u001b[0m in \u001b[0;36m<cell line: 2>\u001b[0;34m()\u001b[0m\n\u001b[1;32m      1\u001b[0m \u001b[0;32mimport\u001b[0m \u001b[0mnumpy\u001b[0m \u001b[0;32mas\u001b[0m \u001b[0mnp\u001b[0m\u001b[0;34m\u001b[0m\u001b[0;34m\u001b[0m\u001b[0m\n\u001b[0;32m----> 2\u001b[0;31m \u001b[0mlist2\u001b[0m\u001b[0;34m=\u001b[0m\u001b[0;34m[\u001b[0m\u001b[0;34m[\u001b[0m\u001b[0;36m0\u001b[0m\u001b[0;34m,\u001b[0m\u001b[0;36m1\u001b[0m\u001b[0;34m,\u001b[0m\u001b[0;36m2\u001b[0m\u001b[0;34m]\u001b[0m\u001b[0;34m,\u001b[0m\u001b[0;34m[\u001b[0m\u001b[0;36m3\u001b[0m\u001b[0;34m,\u001b[0m\u001b[0;36m4\u001b[0m\u001b[0;34m,\u001b[0m\u001b[0;36m5\u001b[0m\u001b[0;34m]\u001b[0m\u001b[0;34m[\u001b[0m\u001b[0;36m6\u001b[0m\u001b[0;34m,\u001b[0m\u001b[0;36m7\u001b[0m\u001b[0;34m,\u001b[0m\u001b[0;36m8\u001b[0m\u001b[0;34m]\u001b[0m\u001b[0;34m]\u001b[0m\u001b[0;34m\u001b[0m\u001b[0;34m\u001b[0m\u001b[0m\n\u001b[0m\u001b[1;32m      3\u001b[0m \u001b[0marr\u001b[0m\u001b[0;34m=\u001b[0m\u001b[0mnp\u001b[0m\u001b[0;34m.\u001b[0m\u001b[0marray\u001b[0m\u001b[0;34m(\u001b[0m\u001b[0mlist2\u001b[0m\u001b[0;34m,\u001b[0m\u001b[0mdtype\u001b[0m\u001b[0;34m=\u001b[0m\u001b[0;34m'float'\u001b[0m\u001b[0;34m)\u001b[0m\u001b[0;34m\u001b[0m\u001b[0;34m\u001b[0m\u001b[0m\n\u001b[1;32m      4\u001b[0m \u001b[0mprint\u001b[0m\u001b[0;34m(\u001b[0m\u001b[0marr3\u001b[0m\u001b[0;34m)\u001b[0m\u001b[0;34m\u001b[0m\u001b[0;34m\u001b[0m\u001b[0m\n",
            "\u001b[0;31mTypeError\u001b[0m: list indices must be integers or slices, not tuple"
          ]
        }
      ]
    },
    {
      "cell_type": "code",
      "execution_count": null,
      "metadata": {
        "colab": {
          "base_uri": "https://localhost:8080/"
        },
        "id": "HTvVhM6IZcCs",
        "outputId": "6d54a96f-f0e8-4aaf-8ade-d97280abfc60"
      },
      "outputs": [
        {
          "name": "stdout",
          "output_type": "stream",
          "text": [
            "hello\n"
          ]
        }
      ],
      "source": [
        "print(\"hello\")"
      ]
    },
    {
      "cell_type": "code",
      "execution_count": null,
      "metadata": {
        "colab": {
          "base_uri": "https://localhost:8080/"
        },
        "id": "7xV4NAX8ZouD",
        "outputId": "95d44298-2e3a-40f8-b147-28dbe881f996"
      },
      "outputs": [
        {
          "output_type": "stream",
          "name": "stdout",
          "text": [
            "The gcd of 60 and 48 is : 12\n"
          ]
        }
      ],
      "source": [
        "import math\n",
        "print(\"The gcd of 60 and 48 is : \", end=\"\")\n",
        "print(math.gcd(60, 48))"
      ]
    }
  ],
  "metadata": {
    "colab": {
      "provenance": [],
      "authorship_tag": "ABX9TyNw8Ld/DFdnTfr7s3hrychD",
      "include_colab_link": true
    },
    "kernelspec": {
      "display_name": "Python 3",
      "name": "python3"
    },
    "language_info": {
      "name": "python"
    }
  },
  "nbformat": 4,
  "nbformat_minor": 0
}